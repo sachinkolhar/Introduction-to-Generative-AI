{
 "cells": [
  {
   "cell_type": "code",
   "execution_count": 1,
   "metadata": {},
   "outputs": [
    {
     "name": "stderr",
     "output_type": "stream",
     "text": [
      "/usr/local/python/3.12.1/lib/python3.12/site-packages/tqdm/auto.py:21: TqdmWarning: IProgress not found. Please update jupyter and ipywidgets. See https://ipywidgets.readthedocs.io/en/stable/user_install.html\n",
      "  from .autonotebook import tqdm as notebook_tqdm\n"
     ]
    }
   ],
   "source": [
    "import transformers\n",
    "from transformers import pipeline\n",
    "from sentence_transformers import SentenceTransformer"
   ]
  },
  {
   "cell_type": "code",
   "execution_count": 2,
   "metadata": {},
   "outputs": [
    {
     "name": "stdout",
     "output_type": "stream",
     "text": [
      "Requirement already satisfied: transformers in /usr/local/python/3.12.1/lib/python3.12/site-packages (4.50.3)\n",
      "Requirement already satisfied: sentence-transformers in /usr/local/python/3.12.1/lib/python3.12/site-packages (4.0.1)\n",
      "Requirement already satisfied: filelock in /home/codespace/.local/lib/python3.12/site-packages (from transformers) (3.13.1)\n",
      "Requirement already satisfied: huggingface-hub<1.0,>=0.26.0 in /usr/local/python/3.12.1/lib/python3.12/site-packages (from transformers) (0.30.1)\n",
      "Requirement already satisfied: numpy>=1.17 in /home/codespace/.local/lib/python3.12/site-packages (from transformers) (2.2.4)\n",
      "Requirement already satisfied: packaging>=20.0 in /home/codespace/.local/lib/python3.12/site-packages (from transformers) (24.2)\n",
      "Requirement already satisfied: pyyaml>=5.1 in /home/codespace/.local/lib/python3.12/site-packages (from transformers) (6.0.2)\n",
      "Requirement already satisfied: regex!=2019.12.17 in /usr/local/python/3.12.1/lib/python3.12/site-packages (from transformers) (2024.11.6)\n",
      "Requirement already satisfied: requests in /home/codespace/.local/lib/python3.12/site-packages (from transformers) (2.32.3)\n",
      "Requirement already satisfied: tokenizers<0.22,>=0.21 in /usr/local/python/3.12.1/lib/python3.12/site-packages (from transformers) (0.21.1)\n",
      "Requirement already satisfied: safetensors>=0.4.3 in /usr/local/python/3.12.1/lib/python3.12/site-packages (from transformers) (0.5.3)\n",
      "Requirement already satisfied: tqdm>=4.27 in /usr/local/python/3.12.1/lib/python3.12/site-packages (from transformers) (4.67.1)\n",
      "Requirement already satisfied: torch>=1.11.0 in /home/codespace/.local/lib/python3.12/site-packages (from sentence-transformers) (2.6.0+cpu)\n",
      "Requirement already satisfied: scikit-learn in /home/codespace/.local/lib/python3.12/site-packages (from sentence-transformers) (1.6.1)\n",
      "Requirement already satisfied: scipy in /home/codespace/.local/lib/python3.12/site-packages (from sentence-transformers) (1.15.2)\n",
      "Requirement already satisfied: Pillow in /home/codespace/.local/lib/python3.12/site-packages (from sentence-transformers) (11.1.0)\n",
      "Requirement already satisfied: typing_extensions>=4.5.0 in /home/codespace/.local/lib/python3.12/site-packages (from sentence-transformers) (4.12.2)\n",
      "Requirement already satisfied: fsspec>=2023.5.0 in /home/codespace/.local/lib/python3.12/site-packages (from huggingface-hub<1.0,>=0.26.0->transformers) (2024.6.1)\n",
      "Requirement already satisfied: networkx in /home/codespace/.local/lib/python3.12/site-packages (from torch>=1.11.0->sentence-transformers) (3.3)\n",
      "Requirement already satisfied: jinja2 in /home/codespace/.local/lib/python3.12/site-packages (from torch>=1.11.0->sentence-transformers) (3.1.6)\n",
      "Requirement already satisfied: setuptools in /home/codespace/.local/lib/python3.12/site-packages (from torch>=1.11.0->sentence-transformers) (76.0.0)\n",
      "Requirement already satisfied: sympy==1.13.1 in /home/codespace/.local/lib/python3.12/site-packages (from torch>=1.11.0->sentence-transformers) (1.13.1)\n",
      "Requirement already satisfied: mpmath<1.4,>=1.1.0 in /home/codespace/.local/lib/python3.12/site-packages (from sympy==1.13.1->torch>=1.11.0->sentence-transformers) (1.3.0)\n",
      "Requirement already satisfied: charset-normalizer<4,>=2 in /home/codespace/.local/lib/python3.12/site-packages (from requests->transformers) (3.4.1)\n",
      "Requirement already satisfied: idna<4,>=2.5 in /home/codespace/.local/lib/python3.12/site-packages (from requests->transformers) (3.10)\n",
      "Requirement already satisfied: urllib3<3,>=1.21.1 in /home/codespace/.local/lib/python3.12/site-packages (from requests->transformers) (2.3.0)\n",
      "Requirement already satisfied: certifi>=2017.4.17 in /home/codespace/.local/lib/python3.12/site-packages (from requests->transformers) (2025.1.31)\n",
      "Requirement already satisfied: joblib>=1.2.0 in /home/codespace/.local/lib/python3.12/site-packages (from scikit-learn->sentence-transformers) (1.4.2)\n",
      "Requirement already satisfied: threadpoolctl>=3.1.0 in /home/codespace/.local/lib/python3.12/site-packages (from scikit-learn->sentence-transformers) (3.6.0)\n",
      "Requirement already satisfied: MarkupSafe>=2.0 in /home/codespace/.local/lib/python3.12/site-packages (from jinja2->torch>=1.11.0->sentence-transformers) (3.0.2)\n"
     ]
    }
   ],
   "source": [
    "!pip install transformers sentence-transformers\n"
   ]
  },
  {
   "cell_type": "code",
   "execution_count": 3,
   "metadata": {},
   "outputs": [
    {
     "name": "stderr",
     "output_type": "stream",
     "text": [
      "No model was supplied, defaulted to distilbert/distilbert-base-uncased-finetuned-sst-2-english and revision 714eb0f (https://huggingface.co/distilbert/distilbert-base-uncased-finetuned-sst-2-english).\n",
      "Using a pipeline without specifying a model name and revision in production is not recommended.\n",
      "Device set to use cpu\n"
     ]
    },
    {
     "name": "stdout",
     "output_type": "stream",
     "text": [
      "Text: A masterclass in storytelling with brilliant performances by Tim Robbins and Morgan Freeman, offering a deeply moving tale of hope and friendship. Some may find its pacing slow, but the payoff is undeniably rewarding.\n",
      "Sentiment: POSITIVE, Confidence: 0.9999\n",
      "\n",
      "Text: A hilariously awful cult 'so bad it’s good' film with incoherent plotting, wooden acting, and baffling dialogue. Yet, its sheer incompetence makes it an unforgettable experience for midnight movie fans.\n",
      "Sentiment: POSITIVE, Confidence: 0.9944\n",
      "\n",
      "Text: A gripping, darkly comedic thriller with sharp social commentary and flawless direction by Bong Joon-ho. A few plot conveniences stretch believability, but the film’s brilliance overshadows any minor flaws.\n",
      "Sentiment: POSITIVE, Confidence: 0.9993\n",
      "\n",
      "Text: A bizarre, visually unsettling mess with creepy CGI and a nonsensical plot that left audiences bewildered. The only redeeming factor is its meme-worthy absurdity.\n",
      "Sentiment: NEGATIVE, Confidence: 0.9997\n",
      "\n",
      "Text: Heath Ledger’s iconic Joker performance elevates this gritty superhero film into a crime epic, though some may argue Harvey Dent’s arc feels rushed.\n",
      "Sentiment: POSITIVE, Confidence: 0.9983\n",
      "\n",
      "Text: A laughably terrible low-budget disaster with atrocious acting, awful effects, and nonsensical storytelling. It’s so inept that it becomes an entertaining trainwreck.\n",
      "Sentiment: NEGATIVE, Confidence: 0.9992\n",
      "\n",
      "Text: A visually stunning, intellectually engaging sci-fi thriller with a brilliant concept and gripping action. However, its complex plot can feel overly convoluted on first viewing.\n",
      "Sentiment: POSITIVE, Confidence: 0.9959\n",
      "\n",
      "Text: A guilty pleasure for some, this vampire romance suffers from stilted dialogue and wooden acting, but its melodramatic charm has earned it a dedicated fanbase.\n",
      "Sentiment: POSITIVE, Confidence: 0.9940\n",
      "\n",
      "Text: A relentless, high-octane action masterpiece with breathtaking practical effects and minimal dialogue. Some may find its thin plot underwhelming, but the spectacle is unmatched.\n",
      "Sentiment: POSITIVE, Confidence: 0.8499\n",
      "\n",
      "Text: A notorious sci-fi flop with terrible acting, jarring cinematography, and an absurd plot based on L. Ron Hubbard’s work. It’s so bad that it’s fascinating in its failure.\n",
      "Sentiment: NEGATIVE, Confidence: 0.9998\n",
      "\n"
     ]
    }
   ],
   "source": [
    "# Sentiment Analysis Pipeline\n",
    "sentiment_pipeline = pipeline(\"sentiment-analysis\")\n",
    "sentences = [\n",
    "    \"A masterclass in storytelling with brilliant performances by Tim Robbins and Morgan Freeman, offering a deeply moving tale of hope and friendship. Some may find its pacing slow, but the payoff is undeniably rewarding.\",\n",
    "    \"A hilariously awful cult 'so bad it’s good' film with incoherent plotting, wooden acting, and baffling dialogue. Yet, its sheer incompetence makes it an unforgettable experience for midnight movie fans.\",\n",
    "    \"A gripping, darkly comedic thriller with sharp social commentary and flawless direction by Bong Joon-ho. A few plot conveniences stretch believability, but the film’s brilliance overshadows any minor flaws.\",\n",
    "    \"A bizarre, visually unsettling mess with creepy CGI and a nonsensical plot that left audiences bewildered. The only redeeming factor is its meme-worthy absurdity.\",\n",
    "    \"Heath Ledger’s iconic Joker performance elevates this gritty superhero film into a crime epic, though some may argue Harvey Dent’s arc feels rushed.\",\n",
    "    \"A laughably terrible low-budget disaster with atrocious acting, awful effects, and nonsensical storytelling. It’s so inept that it becomes an entertaining trainwreck.\",\n",
    "    \"A visually stunning, intellectually engaging sci-fi thriller with a brilliant concept and gripping action. However, its complex plot can feel overly convoluted on first viewing.\",\n",
    "    \"A guilty pleasure for some, this vampire romance suffers from stilted dialogue and wooden acting, but its melodramatic charm has earned it a dedicated fanbase.\",\n",
    "    \"A relentless, high-octane action masterpiece with breathtaking practical effects and minimal dialogue. Some may find its thin plot underwhelming, but the spectacle is unmatched.\",\n",
    "    \"A notorious sci-fi flop with terrible acting, jarring cinematography, and an absurd plot based on L. Ron Hubbard’s work. It’s so bad that it’s fascinating in its failure.\"\n",
    "]\n",
    "\n",
    "sentiment_results = sentiment_pipeline(sentences)\n",
    "for text, result in zip(sentences, sentiment_results):\n",
    "    print(f\"Text: {text}\\nSentiment: {result['label']}, Confidence: {result['score']:.4f}\\n\")\n"
   ]
  },
  {
   "cell_type": "code",
   "execution_count": 4,
   "metadata": {},
   "outputs": [
    {
     "name": "stderr",
     "output_type": "stream",
     "text": [
      "/usr/local/python/3.12.1/lib/python3.12/site-packages/transformers/models/marian/tokenization_marian.py:175: UserWarning: Recommended: pip install sacremoses.\n",
      "  warnings.warn(\"Recommended: pip install sacremoses.\")\n",
      "Device set to use cpu\n"
     ]
    },
    {
     "name": "stdout",
     "output_type": "stream",
     "text": [
      "Original: A masterclass in storytelling with brilliant performances by Tim Robbins and Morgan Freeman, offering a deeply moving tale of hope and friendship. Some may find its pacing slow, but the payoff is undeniably rewarding.\n",
      "Translated: कुछ व्यक्‍ति शायद इसकी गति धीमी हो, लेकिन भुगतान बहुत ही लाभप्रद है ।\n",
      "\n",
      "Original: A hilariously awful cult 'so bad it’s good' film with incoherent plotting, wooden acting, and baffling dialogue. Yet, its sheer incompetence makes it an unforgettable experience for midnight movie fans.\n",
      "Translated: एक बहुत ही भयानक पंथ 'तो यह अच्छी तरह से अच्छी योजना है, लकड़ी का काम, और ब्म्पिंग संवाद के साथ. फिर भी, यह आधी रात के फिल्म प्रशंसकों के लिए एक यादगार अनुभव बनाता है.\n",
      "\n",
      "Original: A gripping, darkly comedic thriller with sharp social commentary and flawless direction by Bong Joon-ho. A few plot conveniences stretch believability, but the film’s brilliance overshadows any minor flaws.\n",
      "Translated: \"गफ़ो-हो\" द्वारा तेज सामाजिक व्याख्या और बिना स्वतंत्र निर्देशन के। कुछ योजनाओं की सुविधा अस्वीकार करती है, लेकिन फ़िल्म की कल्पना किसी भी छोटी कमियों पर हावी होती है।\n",
      "\n",
      "Original: A bizarre, visually unsettling mess with creepy CGI and a nonsensical plot that left audiences bewildered. The only redeeming factor is its meme-worthy absurdity.\n",
      "Translated: अजीब बात यह है कि अजीब, अजीब से अजीब, अजीब-शिक्षित राजदूत और एक अशुभ युक्ति है कि दर्शकों को भ्रम में छोड़ दिया. केवल छुटकारा कारक ही है.\n",
      "\n",
      "Original: Heath Ledger’s iconic Joker performance elevates this gritty superhero film into a crime epic, though some may argue Harvey Dent’s arc feels rushed.\n",
      "Translated: लेकिन कुछ लोगों का कहना है कि हर्व के आर्कीटिक्स की वजह से यह फिल्म बहुत मशहूर हो जाती है ।\n",
      "\n",
      "Original: A laughably terrible low-budget disaster with atrocious acting, awful effects, and nonsensical storytelling. It’s so inept that it becomes an entertaining trainwreck.\n",
      "Translated: एक हँसी की वजह से भयानक तूफान, भयंकर प्रभाव, और अशुभ कहानी बोल रही है. यह इतना आकर्षक है कि यह एक मजेदार ट्रेन बन जाता है.\n",
      "\n",
      "Original: A visually stunning, intellectually engaging sci-fi thriller with a brilliant concept and gripping action. However, its complex plot can feel overly convoluted on first viewing.\n",
      "Translated: लेकिन, इसकी जटिल योजना पहली बार देखने पर बहुत अधिक संतोषजनक महसूस कर सकती है।\n",
      "\n",
      "Original: A guilty pleasure for some, this vampire romance suffers from stilted dialogue and wooden acting, but its melodramatic charm has earned it a dedicated fanbase.\n",
      "Translated: कुछ लोगों के लिए एक दोषी सुख - विलास, यह विममगीली प्रेम संवाद और लकड़ी के प्रदर्शन से पीड़ित होता है, लेकिन उसके पसुल्डर आकर्षण ने उसे एक समर्पित प्रशंसक की कमाई की है ।\n",
      "\n",
      "Original: A relentless, high-octane action masterpiece with breathtaking practical effects and minimal dialogue. Some may find its thin plot underwhelming, but the spectacle is unmatched.\n",
      "Translated: स्थिर, उच्चतम कार्यवाही शानदार व्यावहारिक प्रभावों और न्यूनतम संवाद के साथ उत्कृष्ट है. कुछ अपनी पतली चाल मिल सकती है, लेकिन नज़ारा शानदार है.\n",
      "\n",
      "Original: A notorious sci-fi flop with terrible acting, jarring cinematography, and an absurd plot based on L. Ron Hubbard’s work. It’s so bad that it’s fascinating in its failure.\n",
      "Translated: यह इतना बुरा है कि यह अपनी असफलता में आकर्षक है.\n",
      "\n"
     ]
    }
   ],
   "source": [
    "# Translation Pipeline (English to Hindi)\n",
    "translator = pipeline(\"translation\", model=\"Helsinki-NLP/opus-mt-en-hi\")\n",
    "translated_texts = translator(sentences)\n",
    "for original, translated in zip(sentences, translated_texts):\n",
    "    print(f\"Original: {original}\\nTranslated: {translated['translation_text']}\\n\")\n"
   ]
  },
  {
   "cell_type": "code",
   "execution_count": 5,
   "metadata": {},
   "outputs": [
    {
     "name": "stderr",
     "output_type": "stream",
     "text": [
      "No model was supplied, defaulted to sshleifer/distilbart-cnn-12-6 and revision a4f8f3e (https://huggingface.co/sshleifer/distilbart-cnn-12-6).\n",
      "Using a pipeline without specifying a model name and revision in production is not recommended.\n",
      "Device set to use cpu\n"
     ]
    },
    {
     "name": "stdout",
     "output_type": "stream",
     "text": [
      "Summary 1:  Lorem Ipsum has been the industry's standard dummy text since the 1500s . It has roots in a piece of classical Latin literature from 45 BC, making it over 2000 years old . It was popularised in the 1960s with\n",
      "\n",
      "Summary 2:  A ghillie suit is a type of camouflage clothing designed to resemble the background environment such as foliage . Military personnel, police, hunters, and nature photographers may wear the suit to blend into their surroundings . The suit gives the wearer's\n",
      "\n"
     ]
    }
   ],
   "source": [
    "# Summarization Pipeline\n",
    "summarizer = pipeline(\"summarization\")\n",
    "summarization_texts = [\n",
    "    \"\"\"\n",
    "    Lorem Ipsum is simply dummy text of the printing and typesetting industry. Lorem Ipsum has been the industry's standard dummy text ever since the 1500s, when an unknown printer took a galley of type and scrambled it to make a type specimen book. It has survived not only five centuries, but also the leap into electronic typesetting, remaining essentially unchanged. It was popularised in the 1960s with the release of Letraset sheets containing Lorem Ipsum passages, and more recently with desktop publishing software like Aldus PageMaker including versions of Lorem Ipsum. Contrary to popular belief, Lorem Ipsum is not simply random text. It has roots in a piece of classical Latin literature from 45 BC, making it over 2000 years old. Richard McClintock, a Latin professor at Hampden-Sydney College in Virginia, looked up one of the more obscure Latin words, consectetur, from a Lorem Ipsum passage, and going through the cites of the word in classical literature, discovered the undoubtable source. Lorem Ipsum comes from sections 1.10.32 and 1.10.33 of 'de Finibus Bonorum et Malorum' (The Extremes of Good and Evil) by Cicero, written in 45 BC. This book is a treatise on the theory of ethics, very popular during the Renaissance. The first line of Lorem Ipsum, 'Lorem ipsum dolor sit amet..', comes from a line in section 1.10.32.\n",
    "    \"\"\",\n",
    "    \"\"\"\n",
    "    A ghillie suit is a type of camouflage clothing designed to resemble the background environment, such as foliage. Typically, it is a net or cloth garment covered in loose strips of burlap (hessian), cloth, twine, or jute sometimes made to look like leaves and twigs, and optionally augmented with foliage from the area. Military personnel, police, hunters, and nature photographers may wear a ghillie suit to blend into their surroundings and to conceal themselves from enemies or targets. The suit gives the wearer's outline a three-dimensional breakup, rather than a linear one. When manufactured correctly, the suit will move in the wind in the same way as surrounding foliage. Some ghillie suits are made with light and breathable material that allows a person to wear a shirt underneath.\n",
    "    \"\"\"\n",
    "]\n",
    "summaries = summarizer(summarization_texts, max_length=50, min_length=25, do_sample=False)\n",
    "for i, summary in enumerate(summaries):\n",
    "    print(f\"Summary {i + 1}: {summary['summary_text']}\\n\")"
   ]
  },
  {
   "cell_type": "code",
   "execution_count": 6,
   "metadata": {},
   "outputs": [
    {
     "name": "stdout",
     "output_type": "stream",
     "text": [
      "Sentence: A masterclass in storytelling with brilliant performances by Tim Robbins and Morgan Freeman, offering a deeply moving tale of hope and friendship. Some may find its pacing slow, but the payoff is undeniably rewarding.\n",
      "Embedding Size: 768\n",
      "Embedding: [0.2793929  0.02088176 0.3894049  0.07053512 0.58444   ] ... (truncated)\n",
      "\n",
      "Sentence: A hilariously awful cult 'so bad it’s good' film with incoherent plotting, wooden acting, and baffling dialogue. Yet, its sheer incompetence makes it an unforgettable experience for midnight movie fans.\n",
      "Embedding Size: 768\n",
      "Embedding: [ 0.79677594  0.23472941  0.54622036 -0.48005664 -0.2165466 ] ... (truncated)\n",
      "\n",
      "Sentence: A gripping, darkly comedic thriller with sharp social commentary and flawless direction by Bong Joon-ho. A few plot conveniences stretch believability, but the film’s brilliance overshadows any minor flaws.\n",
      "Embedding Size: 768\n",
      "Embedding: [-0.5966518  -0.08197126  0.49326208 -0.70707226 -0.01572404] ... (truncated)\n",
      "\n",
      "Sentence: A bizarre, visually unsettling mess with creepy CGI and a nonsensical plot that left audiences bewildered. The only redeeming factor is its meme-worthy absurdity.\n",
      "Embedding Size: 768\n",
      "Embedding: [ 0.09055018  0.05609888  1.1054435   0.15813349 -0.20481552] ... (truncated)\n",
      "\n",
      "Sentence: Heath Ledger’s iconic Joker performance elevates this gritty superhero film into a crime epic, though some may argue Harvey Dent’s arc feels rushed.\n",
      "Embedding Size: 768\n",
      "Embedding: [-0.1269998  -0.1736697   0.35361877 -0.81645435 -0.03917301] ... (truncated)\n",
      "\n",
      "Sentence: A laughably terrible low-budget disaster with atrocious acting, awful effects, and nonsensical storytelling. It’s so inept that it becomes an entertaining trainwreck.\n",
      "Embedding Size: 768\n",
      "Embedding: [ 0.11347219  0.09230462 -0.01120112 -0.20411608  0.6700093 ] ... (truncated)\n",
      "\n",
      "Sentence: A visually stunning, intellectually engaging sci-fi thriller with a brilliant concept and gripping action. However, its complex plot can feel overly convoluted on first viewing.\n",
      "Embedding Size: 768\n",
      "Embedding: [ 0.15320224 -0.3679475   1.0892795  -0.18190585 -0.05295986] ... (truncated)\n",
      "\n",
      "Sentence: A guilty pleasure for some, this vampire romance suffers from stilted dialogue and wooden acting, but its melodramatic charm has earned it a dedicated fanbase.\n",
      "Embedding Size: 768\n",
      "Embedding: [ 0.18087724 -0.40154606  0.80612826 -0.03272405 -0.7270876 ] ... (truncated)\n",
      "\n",
      "Sentence: A relentless, high-octane action masterpiece with breathtaking practical effects and minimal dialogue. Some may find its thin plot underwhelming, but the spectacle is unmatched.\n",
      "Embedding Size: 768\n",
      "Embedding: [-0.14641197  0.1296664   0.60689634  0.24451366  0.03554308] ... (truncated)\n",
      "\n",
      "Sentence: A notorious sci-fi flop with terrible acting, jarring cinematography, and an absurd plot based on L. Ron Hubbard’s work. It’s so bad that it’s fascinating in its failure.\n",
      "Embedding Size: 768\n",
      "Embedding: [ 0.10621345  0.36927184  0.45476964 -0.59961694  0.37969983] ... (truncated)\n",
      "\n"
     ]
    }
   ],
   "source": [
    "# Sentence Embeddings\n",
    "model_name = \"sentence-transformers/distilbert-base-nli-stsb-mean-tokens\"\n",
    "embedding_model = SentenceTransformer(model_name)\n",
    "embeddings = embedding_model.encode(sentences)\n",
    "for sentence, embedding in zip(sentences, embeddings):\n",
    "    print(\"Sentence:\", sentence)\n",
    "    print(\"Embedding Size:\", len(embedding))\n",
    "    print(\"Embedding:\", embedding[:5], \"... (truncated)\")\n",
    "    print()"
   ]
  },
  {
   "cell_type": "code",
   "execution_count": null,
   "metadata": {},
   "outputs": [],
   "source": []
  }
 ],
 "metadata": {
  "kernelspec": {
   "display_name": "Python 3",
   "language": "python",
   "name": "python3"
  },
  "language_info": {
   "codemirror_mode": {
    "name": "ipython",
    "version": 3
   },
   "file_extension": ".py",
   "mimetype": "text/x-python",
   "name": "python",
   "nbconvert_exporter": "python",
   "pygments_lexer": "ipython3",
   "version": "3.12.1"
  }
 },
 "nbformat": 4,
 "nbformat_minor": 2
}
