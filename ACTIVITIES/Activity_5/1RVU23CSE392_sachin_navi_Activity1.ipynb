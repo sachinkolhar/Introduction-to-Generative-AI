{
 "cells": [
  {
   "cell_type": "code",
   "execution_count": 11,
   "id": "29fb8389-d32e-4512-a34b-a46509b74106",
   "metadata": {},
   "outputs": [
    {
     "name": "stdout",
     "output_type": "stream",
     "text": [
      "Predicted Price for 3300 sq. ft.: 634836.45\n",
      "Predicted Price for 5000 sq. ft.: 852897.20\n"
     ]
    }
   ],
   "source": [
    "# Activity 1.1 - Cost of Land Area:  \n",
    "\n",
    "import pandas as pd\n",
    "import numpy as np\n",
    "from sklearn import linear_model\n",
    "from sklearn.model_selection import train_test_split\n",
    "\n",
    "\n",
    "area = [[2600], [3000], [3200], [3600], [4000]]\n",
    "price = [550000, 565000, 610000, 680000, 725000]\n",
    "\n",
    "X_train, X_test, y_train, y_test = train_test_split(area, price, test_size=0.2, random_state=42)\n",
    "reg = linear_model.LinearRegression()\n",
    "reg.fit(X_train, y_train)\n",
    "y_pred = reg.predict(X_test)\n",
    "\n",
    "X_area = [[3300]]\n",
    "predicted_price = reg.predict(X_area)\n",
    "print(f\"Predicted Price for 3300 sq. ft.: {predicted_price[0]:.2f}\")\n",
    "X_area = [[5000]]\n",
    "predicted_price = reg.predict(X_area)\n",
    "print(f\"Predicted Price for 5000 sq. ft.: {predicted_price[0]:.2f}\")\n"
   ]
  },
  {
   "cell_type": "code",
   "execution_count": 13,
   "id": "64af6686-34f1-467b-a570-53fdd37a1363",
   "metadata": {},
   "outputs": [
    {
     "name": "stdout",
     "output_type": "stream",
     "text": [
      "   year  per capita income (US$)\n",
      "0  1970              3399.299037\n",
      "1  1971              3768.297935\n",
      "2  1972              4251.175484\n",
      "3  1973              4804.463248\n",
      "4  1974              5576.514583\n",
      "Predicted Per-Capita Income for 2025: 45431.02\n",
      "Predicted Per-Capita Income for 2035: 53715.67\n"
     ]
    },
    {
     "name": "stderr",
     "output_type": "stream",
     "text": [
      "C:\\Users\\Lenovo\\anaconda3\\Lib\\site-packages\\sklearn\\base.py:493: UserWarning: X does not have valid feature names, but LinearRegression was fitted with feature names\n",
      "  warnings.warn(\n"
     ]
    }
   ],
   "source": [
    "# Activity 1.2 - Per Capita Income:  \n",
    "\n",
    "import pandas as pd\n",
    "from sklearn.linear_model import LinearRegression\n",
    "\n",
    "df = pd.read_csv(\"C:/Users/Lenovo/Downloads/GenAl/csv/canada_per_capita_income.csv\")  \n",
    "print(df.head())\n",
    "X = df[['year']]  \n",
    "y = df['per capita income (US$)'] \n",
    "model = LinearRegression()\n",
    "model.fit(X, y)\n",
    "years = [[2025], [2035]]\n",
    "predictions = model.predict(years)\n",
    "print(f\"Predicted Per-Capita Income for 2025: {predictions[0]:.2f}\")\n",
    "print(f\"Predicted Per-Capita Income for 2035: {predictions[1]:.2f}\")\n",
    "\n",
    "\n"
   ]
  },
  {
   "cell_type": "code",
   "execution_count": null,
   "id": "24865167-02d8-41a1-b50f-cf883af20ccc",
   "metadata": {},
   "outputs": [],
   "source": []
  }
 ],
 "metadata": {
  "kernelspec": {
   "display_name": "Python 3 (ipykernel)",
   "language": "python",
   "name": "python3"
  },
  "language_info": {
   "codemirror_mode": {
    "name": "ipython",
    "version": 3
   },
   "file_extension": ".py",
   "mimetype": "text/x-python",
   "name": "python",
   "nbconvert_exporter": "python",
   "pygments_lexer": "ipython3",
   "version": "3.12.4"
  }
 },
 "nbformat": 4,
 "nbformat_minor": 5
}
